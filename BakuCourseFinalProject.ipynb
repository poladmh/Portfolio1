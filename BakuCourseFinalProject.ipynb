import numpy as np
import pandas as pd
import matplotlib as plt
import seaborn as sns

%matplotlib inline

trd = pd.read_csv("train_data.csv")
tsd = pd.read_csv("test_data.csv")

import math

import warnings
warnings.filterwarnings("ignore")

trd.head(5)

trd.info()

trd.describe()

features_for_drop =["Price currency","Day","Month","Type of building",
                    "Floor","Land area","Location","Address",
                    "Text","Mortgage","Extracts"]
trd.drop(features_for_drop,axis=1,inplace =True)
tsd.drop(features_for_drop,axis=1,inplace =True)

erazilist = []
for t in trd["Title"]:
    newlist = t.split(",")
    erazilist.append(newlist[-1:])

erazilists = []
for t in tsd["Title"]:
    newlists = t.split(",")
    erazilists.append(newlists[-1:])

trd["Erazi"]=pd.DataFrame(erazilist)

tsd["Erazi"]=pd.DataFrame(erazilists)

eralist = trd["Erazi"].value_counts()

for e in trd["Erazi"].unique():
    print(e)

merkez = ["Nizami m.","Şah İsmayıl Xətai m.","Elmlər Akademiyası m.","Nəsimi r.","Nəriman Nərimanov m.","Nərimanov r.",
         "İçəri Şəhər m.","Gənclik m.","Badamdar q.","28 May m.","Sahil m."]
orta = ["İnşaatçılar m.","Bakıxanov q.","Yeni Yasamal q.","Xalqlar Dostluğu m.","Qara Qarayev m."
       ,"Neftçilər m.","Ulduz m.","Yasamal r.","20 Yanvar m.","Azadlıq Prospekti m.","Nəsimi m.","8-ci mikrorayon q.",
        "Yasamal q.","Əhmədli m.","Memar Əcəmi m.","Həzi Aslanov m.","3-cü mikrorayon q.","Səbail r.","Binəqədi r.",
        "7-ci mikrorayon q.","4-cü mikrorayon q.","Dərnəgül m.","Nizami r.","8-ci kilometr q.","Bakmil m.","Kubinka q."
       ,"Koroğlu m."]
uzaq = ["Xırdalan","Yeni Günəşli q.","9-cu mikrorayon q.","Pirallahı r.","Binəqədi q.","Xətai r.","Qaraçuxur q.",
        "Biləcəri q.","Massiv D q.","Həzi Aslanov q.","Xəzər r.","Bayıl q.","Masazır q.","M.Ə.Rəsulzadə q.",
        "Köhnə Günəşli q.","Şimal DRES q.","Sabunçu q.","Qaradağ r.","Yeni Suraxanı q.","6-cı mikrorayon q.","Avtovağzal m.",
       "Keşlə q.","Suraxanı r.","Xutor q.","5-ci mikrorayon q.","1-ci mikrorayon q.","Suraxanı q.","2-ci Alatava q."]
bakietrafi = ["Balaxanı q.","Buzovna q.","Novxanı q.","Mərdəkan q.","Nardaran q.","Mehdiabad q.","Əhmədli q.",
              "Binə q.","Şüvəlan q.","Abşeron r.","Kürdəxanı q.","Zabrat q.","Ceyranbatan q.","Hövsan q.","Sumqayıt",
             "Pirşağı q.","Hökməli q.","Bilgəh q.","Bülbülə q.","Məmmədli q.","Zığ q.","Yeni Ramana q.","Ramana q.",
             "Zağulba q.","Maştağa q.","Saray q.","Sulutəpə q.","Lökbatan q.","Görədil q.","Fatmayı q.","Əmircan q.",
             "Şağan q.","Qobu q.","Sahil q.","Türkan q.","Çiçək q.","Səngəçal q.","Digah q.","NZS q.","Dübəndi q.",
              "Günəşli q.","Savalan q.","20-ci sahə q.","28 May q.","Xocəsən q.","Qala q.","Böyükşor q.","Müşviqabad q.",
              "Xudat","Puta q.","Ələt q.","Zirə q.","Massiv V q.","Yeni Balaxanı q.","Şıxov q.","Qobustan q.","Pirəkəşkül q.",
             "Gürgən q.","Bahar q.","Dədə Qorqud q.","2-ci mikrorayon q.","Şərq q.","Yeni Corat q."]
rayon = ["Qəbələ","Şəki","Quba","Şamaxı","Siyəzən","Lənkəran","Xaçmaz","Qax","Gəncə","Şəmkir","İsmayıllı","Göyçay",
         "Neftçala","Oğuz","Mingəçevir","Göygöl","Balakən","Qusar","Xızı","Sabirabad","Şabran","Cəlilabad","Zaqatala",
         "Şirvan","Tovuz","Gədəbəy","Daşkəsən","Masallı","Salyan","Astara","Goranboy","Naftalan","İmişli","Hacıqabul",
        "Qazax","Kürdəmir","Ağsu","Ucar","Naxçıvan"]

loclist = []
loclistdx = []
text = list(trd["Erazi"])
def textchecker(listoftags1,listoftags2,listoftags3,listoftags4,listoftags5,listoftext,listofboolens,
                tag1,tag2,tag3,tag4,tag5):
    for t in listoftext:
        if any(tag1 in str(t) for tag1 in listoftags1):
            listofboolens.append(tag1)
        elif any(tag2 in str(t) for tag2 in listoftags2):
            listofboolens.append(tag2)    
        elif any(tag3 in str(t) for tag3 in listoftags3):
            listofboolens.append(tag3)
        elif any(tag4 in str(t) for tag4 in listoftags4):
            listofboolens.append(tag4)
        elif any(tag5 in str(t) for tag5 in listoftags5):
            listofboolens.append(tag5)
            
            
textchecker(merkez,orta,uzaq,bakietrafi,rayon,text,loclist,"merkez","orta","uzaq","bakietrafi","rayon")

loclists = []
loclistdxs = []
text = list(tsd["Erazi"])
def textchecker(listoftags1,listoftags2,listoftags3,listoftags4,listoftags5,listoftext,listofboolens,
                tag1,tag2,tag3,tag4,tag5):
    for t in listoftext:
        if any(tag1 in str(t) for tag1 in listoftags1):
            listofboolens.append(tag1)
        elif any(tag2 in str(t) for tag2 in listoftags2):
            listofboolens.append(tag2)    
        elif any(tag3 in str(t) for tag3 in listoftags3):
            listofboolens.append(tag3)
        elif any(tag4 in str(t) for tag4 in listoftags4):
            listofboolens.append(tag4)
        elif any(tag5 in str(t) for tag5 in listoftags5):
            listofboolens.append(tag5)
            
            
textchecker(merkez,orta,uzaq,bakietrafi,rayon,text,loclists,"merkez","orta","uzaq","bakietrafi","rayon")

trd["Erazi"] = pd.DataFrame(loclist)

tsd["Erazi"] = pd.DataFrame(loclists)

trd["Erazi"].fillna("orta",inplace=True)

tsd["Erazi"].fillna("orta",inplace=True)

sns.heatmap(trd.corr(),cmap="Greens",annot=True)

trd.head()

icarelist=[]
for t in trd["Title"]:
    if t.startswith("İcarə"):
        icarelist.append("i")
    elif t.startswith("Sat"):
        icarelist.append("s")
    else:
        icarelist.append("d")

icarelists=[]
for t in tsd["Title"]:
    if t.startswith("İcarə"):
        icarelists.append("i")
    elif t.startswith("Sat"):
        icarelists.append("s")
    else:
        icarelists.append("d")

trd["Title"]=icarelist
tsd["Title"]=icarelists

trd.head()

arealist = []
sotindexlist = []
for a in trd["Area"]:
    if " m²" in a:
        a = a.replace(" m²","")
        arealist.append(a)
    elif " sot" in a:
        sotindexlist.append(list(trd["Area"]).index(a))
        a = a.replace(" sot","")
        arealist.append(a)

trd["Area"] = pd.DataFrame(arealist)
trd["Area"] = trd["Area"].astype(float)
#trd.drop(sotindexlist,inplace=True)
#trd["Area"].loc[sotindexlist] = trd["Area"].loc[sotindexlist]*100

trd["Area"].loc[sotindexlist] = trd["Area"].loc[sotindexlist]*10000

trd[trd["Area"]>2500]["Price"].count()

trd.drop(trd[trd["Area"]>2500].index,inplace=True)

arealists = []
sotindexlists = []
for a in tsd["Area"]:
    if " m²" in a:
        a = a.replace(" m²","")
        arealists.append(a)
    elif " sot" in a:
        sotindexlists.append(list(tsd["Area"]).index(a))
        a = a.replace(" sot","")
        arealists.append(a)

tsd["Area"] = pd.DataFrame(arealists)
tsd["Area"] = tsd["Area"].astype(float)
#tsd["Area"].loc[sotindexlists] = tsd["Area"].loc[sotindexlists]*10000

for cat in trd["Category"].unique():
    a = trd[trd["Category"]==cat]["Price"].mean()
    b = trd[trd["Category"]==cat]["Price"].count()
    c = trd[trd["Category"]==cat]["Area"].mean()
    d = a/c
    print(str(cat) +"           "+ str(a)+ "           " + str(b) + "           "+ str(c)+"         "+str(d))

trd["Category"].loc[trd[trd["Category"]=="Yeni tikili"].index] = "Menzil"
trd["Category"].loc[trd[trd["Category"]=="Köhnə tikili"].index] = "Menzil"
trd["Category"].loc[trd[trd["Category"]=="Ofis"].index] = "Obyekt"
trd["Category"].loc[trd[trd["Category"]=="Ev / Villa"].index] = "Bag"
trd["Category"].loc[trd[trd["Category"]=="Obyekt"].index] = "Obyekt"
trd["Category"].loc[trd[trd["Category"]=="Bağ"].index] = "Bag"
trd["Category"].loc[trd[trd["Category"]=="Torpaq"].index] = "Bag"
trd["Category"].loc[trd[trd["Category"]=="Qaraj"].index] = "Bag"

tsd["Category"].loc[tsd[tsd["Category"]=="Yeni tikili"].index] = "Menzil"
tsd["Category"].loc[tsd[tsd["Category"]=="Köhnə tikili"].index] = "Menzil"
tsd["Category"].loc[tsd[tsd["Category"]=="Ofis"].index] = "Obyekt"
tsd["Category"].loc[tsd[tsd["Category"]=="Ev / Villa"].index] = "Bag"
tsd["Category"].loc[tsd[tsd["Category"]=="Obyekt"].index] = "Obyekt"
tsd["Category"].loc[tsd[tsd["Category"]=="Bağ"].index] = "Bag"
tsd["Category"].loc[tsd[tsd["Category"]=="Torpaq"].index] = "Bag"
tsd["Category"].loc[tsd[tsd["Category"]=="Qaraj"].index] = "Bag"

trd[trd["Number of rooms"]>10].count()

trd.drop(trd[trd["Number of rooms"]>10].index,inplace=True)
#tsd.drop(tsd[tsd["Number of rooms"]>10].index,inplace=True)

for cat in trd["Number of rooms"].unique():
    a = trd[trd["Number of rooms"]==cat]["Price"].mean()
    b = trd[trd["Number of rooms"]==cat]["Price"].count()
    c = trd[trd["Number of rooms"]==cat]["Area"].mean()
    d = a/c
    print(str(cat) +"           "+ str(a)+ "           " + str(b) + "           "+ str(c)+"         "+str(d))

rn =  trd[trd["Number of rooms"].isnull()]["Area"]
rnl = pd.qcut(rn,10,labels = [1,2,3,4,5,6,7,8,9,10])
for i in rnl.index:
    trd["Number of rooms"].loc[i] = rnl[i]
trd["Number of rooms"] = trd["Number of rooms"].astype(float)

rnl

rns =  tsd[tsd["Number of rooms"].isnull()]["Area"]
rnls = pd.qcut(rns,10,labels = [1,2,3,4,5,6,7,8,9,10])
for i in rnls.index:
    tsd["Number of rooms"].loc[i] = rnls[i]
tsd["Number of rooms"] = tsd["Number of rooms"].astype(float)

trd["Number of rooms"].loc[trd[trd["Number of rooms"]==1.0].index] = "1-2"
trd["Number of rooms"].loc[trd[trd["Number of rooms"]==2.0].index] = "1-2"
trd["Number of rooms"].loc[trd[trd["Number of rooms"]==3.0].index] = "3"
trd["Number of rooms"].loc[trd[trd["Number of rooms"]==4.0].index] = "4-6"
trd["Number of rooms"].loc[trd[trd["Number of rooms"]==5.0].index] = "4-6"
trd["Number of rooms"].loc[trd[trd["Number of rooms"]==6.0].index] = "4-6"
trd["Number of rooms"].loc[trd[trd["Number of rooms"]==7.0].index] = "7-10"
trd["Number of rooms"].loc[trd[trd["Number of rooms"]==8.0].index] = "7-10"
trd["Number of rooms"].loc[trd[trd["Number of rooms"]==9.0].index] = "7-10"
trd["Number of rooms"].loc[trd[trd["Number of rooms"]==10.0].index] = "7-10"

tsd["Number of rooms"].loc[tsd[tsd["Number of rooms"]==1.0].index] = "1-2"
tsd["Number of rooms"].loc[tsd[tsd["Number of rooms"]==2.0].index] = "1-2"
tsd["Number of rooms"].loc[tsd[tsd["Number of rooms"]==3.0].index] = "3"
tsd["Number of rooms"].loc[tsd[tsd["Number of rooms"]==4.0].index] = "4-6"
tsd["Number of rooms"].loc[tsd[tsd["Number of rooms"]==5.0].index] = "4-6"
tsd["Number of rooms"].loc[tsd[tsd["Number of rooms"]==6.0].index] = "4-6"
tsd["Number of rooms"].loc[tsd[tsd["Number of rooms"]==7.0].index] = "7-10"
tsd["Number of rooms"].loc[tsd[tsd["Number of rooms"]==8.0].index] = "7-10"
tsd["Number of rooms"].loc[tsd[tsd["Number of rooms"]==9.0].index] = "7-10"
tsd["Number of rooms"].loc[tsd[tsd["Number of rooms"]==11.0].index] = "7-10"
tsd["Number of rooms"].loc[tsd[tsd["Number of rooms"]==12.0].index] = "7-10"
tsd["Number of rooms"].loc[tsd[tsd["Number of rooms"]==13.0].index] = "7-10"
tsd["Number of rooms"].loc[tsd[tsd["Number of rooms"]==14.0].index] = "7-10"
tsd["Number of rooms"].loc[tsd[tsd["Number of rooms"]==15.0].index] = "7-10"
tsd["Number of rooms"].loc[tsd[tsd["Number of rooms"]==16.0].index] = "7-10"
tsd["Number of rooms"].loc[tsd[tsd["Number of rooms"]==17.0].index] = "7-10"
tsd["Number of rooms"].loc[tsd[tsd["Number of rooms"]==18.0].index] = "7-10"
tsd["Number of rooms"].loc[tsd[tsd["Number of rooms"]==19.0].index] = "7-10"
tsd["Number of rooms"].loc[tsd[tsd["Number of rooms"]==20.0].index] = "7-10"

trd["Number of rooms"] = trd["Number of rooms"].astype(str)
tsd["Number of rooms"] = tsd["Number of rooms"].astype(str)

trd.head()

from sklearn.preprocessing import StandardScaler as SS
mms = SS()
trd["Area"] = mms.fit_transform(trd["Area"].values.reshape(-1,1))
tsd["Area"] = mms.fit_transform(tsd["Area"].values.reshape(-1,1))
#trd["Views"] = mms.fit_transform(trd["Views"].values.reshape(-1,1))
#tsd["Views"] = mms.fit_transform(tsd["Views"].values.reshape(-1,1))

checkerlist = [1,100,1000,2500,5000,7500,10000,12500,15000,17500]
for check in checkerlist:
    print(str(check) + "   " + str(trd[trd["Views"]<check]["Price"].mean()))
    print(str(check) + "   " + str(trd[trd["Views"]>check]["Price"].mean()))

print(trd[trd["Views"]<2500]["Price"].mean())
print(trd[(trd["Views"]>2500)&(trd["Views"]<13000)]["Price"].mean())
print(trd[(trd["Views"]>13000)]["Price"].mean())

bins = pd.IntervalIndex.from_tuples([(0, 2500), (2500, 13000), (13000, 1000000000)])
cv = pd.cut(trd["Views"],bins,labels=["az","orta","cox"]) 
cvs = pd.cut(tsd["Views"],bins,labels=["az","orta","cox"]) 

trd["Views"]=cv
tsd["Views"]=cvs

tsd["Category"].unique()

#from sklearn.preprocessing import LabelEncoder as LE
#le = LE()
#forencoding = ["Category","Number of rooms","Title","Erazi","Views"]
#for col in forencoding:
#    trd[col] = le.fit_transform(trd[col])
#for col in forencoding:
#    tsd[col] = le.fit_transform(tsd[col])

forencoding = ["Category","Number of rooms","Title","Erazi","Views"]
dummies = pd.get_dummies(trd[forencoding])
trd = pd.concat([trd,dummies],axis=1)
trd.drop(forencoding,axis=1,inplace=True)
dropdums = ["Category_Obyekt","Number of rooms_7-10","Title_i","Erazi_uzaq","Views_(0, 2500]"]
trd.drop(dropdums,axis=1,inplace=True)

forencoding = ["Category","Number of rooms","Title","Erazi","Views"]
dummiess = pd.get_dummies(tsd[forencoding])
tsd = pd.concat([tsd,dummiess],axis=1)
tsd.drop(forencoding,axis=1,inplace=True)
dropdums = ["Category_Obyekt","Number of rooms_7-10","Title_i","Erazi_uzaq","Views_(0, 2500]"]
tsd.drop(dropdums,axis=1,inplace=True)

sns.distplot(trd["Area"])

from sklearn.model_selection import train_test_split as tts

#X = trd[["Area","Title_s"]]
ftdrop = ["Elan_ID","Price"]
X = trd.drop(ftdrop,axis=1)
y = trd["Price"]



#X = sondf.drop(["Elan_ID","Price"],axis=1)
#y = sondf["Price"]

X_train,X_test,y_train,y_test = tts(X,y,test_size=0.16,random_state=9)

from sklearn import tree, linear_model
tr = tree.DecisionTreeRegressor()
lr = linear_model.LinearRegression()
tr.fit(X_train,y_train)
lr.fit(X_train,y_train)
preds = tr.predict(X_test)
preds3 = lr.predict(X_test)
from sklearn.metrics import r2_score as r2, mean_squared_error as mse

print(r2(y_test,preds))
print(math.sqrt(mse(y_test,preds)))
print(r2(y_test,preds3))
print(math.sqrt(mse(y_test,preds3)))
#preds2 = tr.predict(tsd[mf])

from sklearn.ensemble import GradientBoostingRegressor as GB

gbr = GB(learning_rate=0.1,n_estimators=150,max_depth=3,loss="ls",criterion="mse",min_samples_split=6,
         min_samples_leaf=5,max_features="sqrt",random_state=13)

gbr.fit(X_train,y_train)
predgb = gbr.predict(X_test)
print(r2(y_test,predgb))
print(math.sqrt(mse(y_test,predgb)))
