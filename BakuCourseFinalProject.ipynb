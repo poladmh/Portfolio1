{
 "cells": [
  {
   "cell_type": "code",
   "execution_count": 77,
   "id": "38929711",
   "metadata": {},
   "outputs": [],
   "source": [
    "import numpy as np\n",
    "import pandas as pd\n",
    "import matplotlib as plt\n",
    "import seaborn as sns\n",
    "\n",
    "%matplotlib inline\n",
    "\n",
    "trd = pd.read_csv(\"train_data.csv\")\n",
    "tsd = pd.read_csv(\"test_data.csv\")"
   ]
  },
  {
   "cell_type": "code",
   "execution_count": 78,
   "id": "cde24a9d",
   "metadata": {},
   "outputs": [],
   "source": [
    "import math"
   ]
  },
  {
   "cell_type": "code",
   "execution_count": 79,
   "id": "4d24438a",
   "metadata": {},
   "outputs": [],
   "source": [
    "import warnings\n",
    "warnings.filterwarnings(\"ignore\")"
   ]
  },
  {
   "cell_type": "code",
   "execution_count": 80,
   "id": "49c96cef",
   "metadata": {},
   "outputs": [
    {
     "data": {
      "text/html": [
       "<div>\n",
       "<style scoped>\n",
       "    .dataframe tbody tr th:only-of-type {\n",
       "        vertical-align: middle;\n",
       "    }\n",
       "\n",
       "    .dataframe tbody tr th {\n",
       "        vertical-align: top;\n",
       "    }\n",
       "\n",
       "    .dataframe thead th {\n",
       "        text-align: right;\n",
       "    }\n",
       "</style>\n",
       "<table border=\"1\" class=\"dataframe\">\n",
       "  <thead>\n",
       "    <tr style=\"text-align: right;\">\n",
       "      <th></th>\n",
       "      <th>Elan_ID</th>\n",
       "      <th>Views</th>\n",
       "      <th>Day</th>\n",
       "      <th>Month</th>\n",
       "      <th>Category</th>\n",
       "      <th>Floor</th>\n",
       "      <th>Area</th>\n",
       "      <th>Number of rooms</th>\n",
       "      <th>Price currency</th>\n",
       "      <th>Location</th>\n",
       "      <th>Address</th>\n",
       "      <th>Title</th>\n",
       "      <th>Text</th>\n",
       "      <th>Land area</th>\n",
       "      <th>Extracts</th>\n",
       "      <th>Mortgage</th>\n",
       "      <th>Type of building</th>\n",
       "      <th>Price</th>\n",
       "    </tr>\n",
       "  </thead>\n",
       "  <tbody>\n",
       "    <tr>\n",
       "      <th>0</th>\n",
       "      <td>19286</td>\n",
       "      <td>106</td>\n",
       "      <td>04</td>\n",
       "      <td>İyun</td>\n",
       "      <td>Yeni tikili</td>\n",
       "      <td>16 / 17</td>\n",
       "      <td>110 m²</td>\n",
       "      <td>3.0</td>\n",
       "      <td>AZN</td>\n",
       "      <td>İnşaatçılar m.,Yasamal r.,Yasamal q.</td>\n",
       "      <td>Ünvan: Bakı şəhəri, Həsən Bəy Zərdabi küç</td>\n",
       "      <td>İcarəyə verilir 3 otaqlı yeni tikili 110 m², İ...</td>\n",
       "      <td>Yasamal rayonu.Zerdabi pr. Baku Mall-in yaxinl...</td>\n",
       "      <td>NaN</td>\n",
       "      <td>NaN</td>\n",
       "      <td>NaN</td>\n",
       "      <td>NaN</td>\n",
       "      <td>750.0</td>\n",
       "    </tr>\n",
       "    <tr>\n",
       "      <th>1</th>\n",
       "      <td>2989</td>\n",
       "      <td>185</td>\n",
       "      <td>18</td>\n",
       "      <td>İyun</td>\n",
       "      <td>Köhnə tikili</td>\n",
       "      <td>5 / 9</td>\n",
       "      <td>80 m²</td>\n",
       "      <td>3.0</td>\n",
       "      <td>AZN</td>\n",
       "      <td>Sabunçu r.,Bakıxanov q.</td>\n",
       "      <td>Ünvan: Bakı şəhəri, Xudu Məmmədov küç. 4759</td>\n",
       "      <td>İcarəyə verilir 3 otaqlı köhnə tikili 80 m², B...</td>\n",
       "      <td>Hər bir şəraiti var.Yalniz ailəli şəxslərə ver...</td>\n",
       "      <td>NaN</td>\n",
       "      <td>NaN</td>\n",
       "      <td>NaN</td>\n",
       "      <td>NaN</td>\n",
       "      <td>450.0</td>\n",
       "    </tr>\n",
       "    <tr>\n",
       "      <th>2</th>\n",
       "      <td>20316</td>\n",
       "      <td>162</td>\n",
       "      <td>03</td>\n",
       "      <td>İyun</td>\n",
       "      <td>Ofis</td>\n",
       "      <td>NaN</td>\n",
       "      <td>64 m²</td>\n",
       "      <td>3.0</td>\n",
       "      <td>AZN</td>\n",
       "      <td>Dövlət Statistika Komitəsi ,M.Hüseynzadə parkı...</td>\n",
       "      <td>Ünvan: Bakı şəhəri, Naxçıvani küç.</td>\n",
       "      <td>İcarəyə verilir 3 otaqlı ofis 64 m², Nizami m.</td>\n",
       "      <td>Ofis idial vəziyyətdədir çox gözəl təmirlidir ...</td>\n",
       "      <td>NaN</td>\n",
       "      <td>NaN</td>\n",
       "      <td>NaN</td>\n",
       "      <td>Biznes mərkəzi</td>\n",
       "      <td>1300.0</td>\n",
       "    </tr>\n",
       "    <tr>\n",
       "      <th>3</th>\n",
       "      <td>4591</td>\n",
       "      <td>92</td>\n",
       "      <td>17</td>\n",
       "      <td>İyun</td>\n",
       "      <td>Ev / Villa</td>\n",
       "      <td>NaN</td>\n",
       "      <td>100 m²</td>\n",
       "      <td>3.0</td>\n",
       "      <td>AZN</td>\n",
       "      <td>Qəbələ</td>\n",
       "      <td>Ünvan: Qəbələ şəhəri, Vəndam qəsəbəsi</td>\n",
       "      <td>İcarəyə verilir 3 otaqlı ev / villa 100 m², Qə...</td>\n",
       "      <td>Ucuz və super şəraitli həyət evləri bizdə. Yay...</td>\n",
       "      <td>6 sot</td>\n",
       "      <td>NaN</td>\n",
       "      <td>NaN</td>\n",
       "      <td>NaN</td>\n",
       "      <td>60.0</td>\n",
       "    </tr>\n",
       "    <tr>\n",
       "      <th>4</th>\n",
       "      <td>19751</td>\n",
       "      <td>189</td>\n",
       "      <td>04</td>\n",
       "      <td>İyun</td>\n",
       "      <td>Yeni tikili</td>\n",
       "      <td>12 / 13</td>\n",
       "      <td>42 m²</td>\n",
       "      <td>2.0</td>\n",
       "      <td>AZN</td>\n",
       "      <td>Xırdalan</td>\n",
       "      <td>Ünvan: Xırdalan şəhəri, Heydar Eliyev P.R</td>\n",
       "      <td>Satılır 2 otaqlı yeni tikili 42 m², Xırdalan</td>\n",
       "      <td>NaN</td>\n",
       "      <td>NaN</td>\n",
       "      <td>var</td>\n",
       "      <td>var</td>\n",
       "      <td>NaN</td>\n",
       "      <td>43000.0</td>\n",
       "    </tr>\n",
       "  </tbody>\n",
       "</table>\n",
       "</div>"
      ],
      "text/plain": [
       "   Elan_ID  Views Day Month      Category    Floor    Area  Number of rooms  \\\n",
       "0    19286    106  04  İyun   Yeni tikili  16 / 17  110 m²              3.0   \n",
       "1     2989    185  18  İyun  Köhnə tikili    5 / 9   80 m²              3.0   \n",
       "2    20316    162  03  İyun          Ofis      NaN   64 m²              3.0   \n",
       "3     4591     92  17  İyun    Ev / Villa      NaN  100 m²              3.0   \n",
       "4    19751    189  04  İyun   Yeni tikili  12 / 13   42 m²              2.0   \n",
       "\n",
       "  Price currency                                           Location  \\\n",
       "0            AZN               İnşaatçılar m.,Yasamal r.,Yasamal q.   \n",
       "1            AZN                            Sabunçu r.,Bakıxanov q.   \n",
       "2            AZN  Dövlət Statistika Komitəsi ,M.Hüseynzadə parkı...   \n",
       "3            AZN                                             Qəbələ   \n",
       "4            AZN                                           Xırdalan   \n",
       "\n",
       "                                       Address  \\\n",
       "0    Ünvan: Bakı şəhəri, Həsən Bəy Zərdabi küç   \n",
       "1  Ünvan: Bakı şəhəri, Xudu Məmmədov küç. 4759   \n",
       "2           Ünvan: Bakı şəhəri, Naxçıvani küç.   \n",
       "3        Ünvan: Qəbələ şəhəri, Vəndam qəsəbəsi   \n",
       "4    Ünvan: Xırdalan şəhəri, Heydar Eliyev P.R   \n",
       "\n",
       "                                               Title  \\\n",
       "0  İcarəyə verilir 3 otaqlı yeni tikili 110 m², İ...   \n",
       "1  İcarəyə verilir 3 otaqlı köhnə tikili 80 m², B...   \n",
       "2     İcarəyə verilir 3 otaqlı ofis 64 m², Nizami m.   \n",
       "3  İcarəyə verilir 3 otaqlı ev / villa 100 m², Qə...   \n",
       "4       Satılır 2 otaqlı yeni tikili 42 m², Xırdalan   \n",
       "\n",
       "                                                Text Land area Extracts  \\\n",
       "0  Yasamal rayonu.Zerdabi pr. Baku Mall-in yaxinl...       NaN      NaN   \n",
       "1  Hər bir şəraiti var.Yalniz ailəli şəxslərə ver...       NaN      NaN   \n",
       "2  Ofis idial vəziyyətdədir çox gözəl təmirlidir ...       NaN      NaN   \n",
       "3  Ucuz və super şəraitli həyət evləri bizdə. Yay...     6 sot      NaN   \n",
       "4                                                NaN       NaN      var   \n",
       "\n",
       "  Mortgage Type of building    Price  \n",
       "0      NaN              NaN    750.0  \n",
       "1      NaN              NaN    450.0  \n",
       "2      NaN   Biznes mərkəzi   1300.0  \n",
       "3      NaN              NaN     60.0  \n",
       "4      var              NaN  43000.0  "
      ]
     },
     "execution_count": 80,
     "metadata": {},
     "output_type": "execute_result"
    }
   ],
   "source": [
    "trd.head(5)"
   ]
  },
  {
   "cell_type": "code",
   "execution_count": 81,
   "id": "2bc2a72f",
   "metadata": {},
   "outputs": [
    {
     "name": "stdout",
     "output_type": "stream",
     "text": [
      "<class 'pandas.core.frame.DataFrame'>\n",
      "RangeIndex: 19950 entries, 0 to 19949\n",
      "Data columns (total 18 columns):\n",
      " #   Column            Non-Null Count  Dtype  \n",
      "---  ------            --------------  -----  \n",
      " 0   Elan_ID           19950 non-null  int64  \n",
      " 1   Views             19950 non-null  int64  \n",
      " 2   Day               19950 non-null  object \n",
      " 3   Month             19950 non-null  object \n",
      " 4   Category          19950 non-null  object \n",
      " 5   Floor             13927 non-null  object \n",
      " 6   Area              19950 non-null  object \n",
      " 7   Number of rooms   16255 non-null  float64\n",
      " 8   Price currency    19950 non-null  object \n",
      " 9   Location          19950 non-null  object \n",
      " 10  Address           19950 non-null  object \n",
      " 11  Title             19950 non-null  object \n",
      " 12  Text              14688 non-null  object \n",
      " 13  Land area         3476 non-null   object \n",
      " 14  Extracts          14834 non-null  object \n",
      " 15  Mortgage          818 non-null    object \n",
      " 16  Type of building  340 non-null    object \n",
      " 17  Price             19950 non-null  float64\n",
      "dtypes: float64(2), int64(2), object(14)\n",
      "memory usage: 2.7+ MB\n"
     ]
    }
   ],
   "source": [
    "trd.info()"
   ]
  },
  {
   "cell_type": "code",
   "execution_count": 82,
   "id": "45389404",
   "metadata": {},
   "outputs": [
    {
     "data": {
      "text/html": [
       "<div>\n",
       "<style scoped>\n",
       "    .dataframe tbody tr th:only-of-type {\n",
       "        vertical-align: middle;\n",
       "    }\n",
       "\n",
       "    .dataframe tbody tr th {\n",
       "        vertical-align: top;\n",
       "    }\n",
       "\n",
       "    .dataframe thead th {\n",
       "        text-align: right;\n",
       "    }\n",
       "</style>\n",
       "<table border=\"1\" class=\"dataframe\">\n",
       "  <thead>\n",
       "    <tr style=\"text-align: right;\">\n",
       "      <th></th>\n",
       "      <th>Elan_ID</th>\n",
       "      <th>Views</th>\n",
       "      <th>Number of rooms</th>\n",
       "      <th>Price</th>\n",
       "    </tr>\n",
       "  </thead>\n",
       "  <tbody>\n",
       "    <tr>\n",
       "      <th>count</th>\n",
       "      <td>19950.000000</td>\n",
       "      <td>19950.000000</td>\n",
       "      <td>16255.000000</td>\n",
       "      <td>1.995000e+04</td>\n",
       "    </tr>\n",
       "    <tr>\n",
       "      <th>mean</th>\n",
       "      <td>13301.717744</td>\n",
       "      <td>397.512030</td>\n",
       "      <td>2.996801</td>\n",
       "      <td>1.757063e+05</td>\n",
       "    </tr>\n",
       "    <tr>\n",
       "      <th>std</th>\n",
       "      <td>7680.359730</td>\n",
       "      <td>931.341229</td>\n",
       "      <td>1.488644</td>\n",
       "      <td>4.353730e+05</td>\n",
       "    </tr>\n",
       "    <tr>\n",
       "      <th>min</th>\n",
       "      <td>1.000000</td>\n",
       "      <td>45.000000</td>\n",
       "      <td>1.000000</td>\n",
       "      <td>1.000000e+01</td>\n",
       "    </tr>\n",
       "    <tr>\n",
       "      <th>25%</th>\n",
       "      <td>6667.500000</td>\n",
       "      <td>145.000000</td>\n",
       "      <td>2.000000</td>\n",
       "      <td>6.000000e+03</td>\n",
       "    </tr>\n",
       "    <tr>\n",
       "      <th>50%</th>\n",
       "      <td>13305.500000</td>\n",
       "      <td>209.000000</td>\n",
       "      <td>3.000000</td>\n",
       "      <td>9.800000e+04</td>\n",
       "    </tr>\n",
       "    <tr>\n",
       "      <th>75%</th>\n",
       "      <td>19953.750000</td>\n",
       "      <td>342.750000</td>\n",
       "      <td>3.000000</td>\n",
       "      <td>1.850000e+05</td>\n",
       "    </tr>\n",
       "    <tr>\n",
       "      <th>max</th>\n",
       "      <td>26600.000000</td>\n",
       "      <td>32946.000000</td>\n",
       "      <td>20.000000</td>\n",
       "      <td>1.700000e+07</td>\n",
       "    </tr>\n",
       "  </tbody>\n",
       "</table>\n",
       "</div>"
      ],
      "text/plain": [
       "            Elan_ID         Views  Number of rooms         Price\n",
       "count  19950.000000  19950.000000     16255.000000  1.995000e+04\n",
       "mean   13301.717744    397.512030         2.996801  1.757063e+05\n",
       "std     7680.359730    931.341229         1.488644  4.353730e+05\n",
       "min        1.000000     45.000000         1.000000  1.000000e+01\n",
       "25%     6667.500000    145.000000         2.000000  6.000000e+03\n",
       "50%    13305.500000    209.000000         3.000000  9.800000e+04\n",
       "75%    19953.750000    342.750000         3.000000  1.850000e+05\n",
       "max    26600.000000  32946.000000        20.000000  1.700000e+07"
      ]
     },
     "execution_count": 82,
     "metadata": {},
     "output_type": "execute_result"
    }
   ],
   "source": [
    "trd.describe()"
   ]
  },
  {
   "cell_type": "code",
   "execution_count": 83,
   "id": "d155c944",
   "metadata": {},
   "outputs": [],
   "source": [
    "features_for_drop =[\"Price currency\",\"Day\",\"Month\",\"Type of building\",\n",
    "                    \"Floor\",\"Land area\",\"Location\",\"Address\",\n",
    "                    \"Text\",\"Mortgage\",\"Extracts\"]\n",
    "trd.drop(features_for_drop,axis=1,inplace =True)\n",
    "tsd.drop(features_for_drop,axis=1,inplace =True)"
   ]
  },
  {
   "cell_type": "code",
   "execution_count": 84,
   "id": "2e81c419",
   "metadata": {},
   "outputs": [],
   "source": [
    "erazilist = []\n",
    "for t in trd[\"Title\"]:\n",
    "    newlist = t.split(\",\")\n",
    "    erazilist.append(newlist[-1:])"
   ]
  },
  {
   "cell_type": "code",
   "execution_count": 85,
   "id": "980dac62",
   "metadata": {},
   "outputs": [],
   "source": [
    "erazilists = []\n",
    "for t in tsd[\"Title\"]:\n",
    "    newlists = t.split(\",\")\n",
    "    erazilists.append(newlists[-1:])"
   ]
  },
  {
   "cell_type": "code",
   "execution_count": 86,
   "id": "d145c252",
   "metadata": {},
   "outputs": [],
   "source": [
    "trd[\"Erazi\"]=pd.DataFrame(erazilist)"
   ]
  },
  {
   "cell_type": "code",
   "execution_count": 87,
   "id": "4f338ba5",
   "metadata": {},
   "outputs": [],
   "source": [
    "tsd[\"Erazi\"]=pd.DataFrame(erazilists)"
   ]
  },
  {
   "cell_type": "code",
   "execution_count": 88,
   "id": "4576cb90",
   "metadata": {},
   "outputs": [],
   "source": [
    "eralist = trd[\"Erazi\"].value_counts()"
   ]
  },
  {
   "cell_type": "code",
   "execution_count": 89,
   "id": "7f5c65a9",
   "metadata": {},
   "outputs": [
    {
     "name": "stdout",
     "output_type": "stream",
     "text": [
      " İnşaatçılar m.\n",
      " Bakıxanov q.\n",
      " Nizami m.\n",
      " Qəbələ\n",
      " Xırdalan\n",
      " Balaxanı q.\n",
      " Yeni Günəşli q.\n",
      " Şah İsmayıl Xətai m.\n",
      " Yeni Yasamal q.\n",
      " Elmlər Akademiyası m.\n",
      " Xalqlar Dostluğu m.\n",
      " Nəsimi r.\n",
      " Buzovna q.\n",
      " Novxanı q.\n",
      " 9-cu mikrorayon q.\n",
      " Qara Qarayev m.\n",
      " Nəriman Nərimanov m.\n",
      " Neftçilər m.\n",
      " Mərdəkan q.\n",
      " Nardaran q.\n",
      " Mehdiabad q.\n",
      " Pirallahı r.\n",
      " Şəki\n",
      " Ulduz m.\n",
      " Nərimanov r.\n",
      " Binəqədi q.\n",
      " Yasamal r.\n",
      " 20 Yanvar m.\n",
      " Əhmədli q.\n",
      " Xətai r.\n",
      " Binə q.\n",
      " Azadlıq Prospekti m.\n",
      " Nəsimi m.\n",
      " Şüvəlan q.\n",
      " Qaraçuxur q.\n",
      " Abşeron r.\n",
      " İçəri Şəhər m.\n",
      " Biləcəri q.\n",
      " Gənclik m.\n",
      " 8-ci mikrorayon q.\n",
      " Massiv D q.\n",
      " Badamdar q.\n",
      " Yasamal q.\n",
      " Əhmədli m.\n",
      " Həzi Aslanov q.\n",
      " Kürdəxanı q.\n",
      " Memar Əcəmi m.\n",
      " Zabrat q.\n",
      " 28 May m.\n",
      " Quba\n",
      " Həzi Aslanov m.\n",
      " Bülbülə q.\n",
      " Bilgəh q.\n",
      " 3-cü mikrorayon q.\n",
      " Səbail r.\n",
      " Ceyranbatan q.\n",
      " Sahil m.\n",
      " Binəqədi r.\n",
      " Hövsan q.\n",
      " Xəzər r.\n",
      " 7-ci mikrorayon q.\n",
      " Sumqayıt\n",
      " 4-cü mikrorayon q.\n",
      " Pirşağı q.\n",
      " Hökməli q.\n",
      " Şamaxı\n",
      " Siyəzən\n",
      " Məmmədli q.\n",
      " Lənkəran\n",
      " Zığ q.\n",
      " Yeni Ramana q.\n",
      " Xaçmaz\n",
      " Ramana q.\n",
      " Bayıl q.\n",
      " Masazır q.\n",
      " M.Ə.Rəsulzadə q.\n",
      " Dərnəgül m.\n",
      " Sabunçu r.\n",
      " Maştağa q.\n",
      " Qax\n",
      " Zağulba q.\n",
      " Saray q.\n",
      " Gəncə\n",
      " Şəmkir\n",
      " Sulutəpə q.\n",
      " İsmayıllı\n",
      " Nizami r.\n",
      " Köhnə Günəşli q.\n",
      " Göyçay\n",
      " Neftçala\n",
      " 8-ci kilometr q.\n",
      " Oğuz\n",
      " Mingəçevir\n",
      " Göygöl\n",
      " Lökbatan q.\n",
      " Görədil q.\n",
      " Bakmil m.\n",
      " Balakən\n",
      " Kubinka q.\n",
      " Şimal DRES q.\n",
      " Sabunçu q.\n",
      " Qaradağ r.\n",
      " Qusar\n",
      " Fatmayı q.\n",
      " Əmircan q.\n",
      " Xızı\n",
      " Şağan q.\n",
      " Qobu q.\n",
      " Sabirabad\n",
      " Sahil q.\n",
      " Türkan q.\n",
      " Şabran\n",
      " Çiçək q.\n",
      " Cəlilabad\n",
      " Yeni Suraxanı q.\n",
      " 6-cı mikrorayon q.\n",
      " Səngəçal q.\n",
      " Avtovağzal m.\n",
      " Digah q.\n",
      " Koroğlu m.\n",
      " Zaqatala\n",
      " Şirvan\n",
      " Tovuz\n",
      " Gədəbəy\n",
      " NZS q.\n",
      " Dübəndi q.\n",
      " Günəşli q.\n",
      " Savalan q.\n",
      " 20-ci sahə q.\n",
      " 28 May q.\n",
      " Daşkəsən\n",
      " Xocəsən q.\n",
      " Masallı\n",
      " Qala q.\n",
      " Böyükşor q.\n",
      " Müşviqabad q.\n",
      " Keşlə q.\n",
      " Suraxanı r.\n",
      " Xudat\n",
      " Xutor q.\n",
      " 5-ci mikrorayon q.\n",
      " Salyan\n",
      " Astara\n",
      " Puta q.\n",
      " 1-ci mikrorayon q.\n",
      " Goranboy\n",
      " Suraxanı q.\n",
      " Ələt q.\n",
      " Zirə q.\n",
      " Massiv V q.\n",
      " Yeni Balaxanı q.\n",
      " Naftalan\n",
      " Şıxov q.\n",
      " İmişli\n",
      " Qobustan q.\n",
      " Pirəkəşkül q.\n",
      " Gürgən q.\n",
      " Hacıqabul\n",
      " Qazax\n",
      " Bahar q.\n",
      " Dədə Qorqud q.\n",
      " 2-ci mikrorayon q.\n",
      " 2-ci Alatava q.\n",
      " Kürdəmir\n",
      " Ağsu\n",
      " Ucar\n",
      " Şərq q.\n",
      " Yeni Corat q.\n",
      " Naxçıvan\n"
     ]
    }
   ],
   "source": [
    "for e in trd[\"Erazi\"].unique():\n",
    "    print(e)"
   ]
  },
  {
   "cell_type": "code",
   "execution_count": 90,
   "id": "4300b724",
   "metadata": {},
   "outputs": [],
   "source": [
    "merkez = [\"Nizami m.\",\"Şah İsmayıl Xətai m.\",\"Elmlər Akademiyası m.\",\"Nəsimi r.\",\"Nəriman Nərimanov m.\",\"Nərimanov r.\",\n",
    "         \"İçəri Şəhər m.\",\"Gənclik m.\",\"Badamdar q.\",\"28 May m.\",\"Sahil m.\"]\n",
    "orta = [\"İnşaatçılar m.\",\"Bakıxanov q.\",\"Yeni Yasamal q.\",\"Xalqlar Dostluğu m.\",\"Qara Qarayev m.\"\n",
    "       ,\"Neftçilər m.\",\"Ulduz m.\",\"Yasamal r.\",\"20 Yanvar m.\",\"Azadlıq Prospekti m.\",\"Nəsimi m.\",\"8-ci mikrorayon q.\",\n",
    "        \"Yasamal q.\",\"Əhmədli m.\",\"Memar Əcəmi m.\",\"Həzi Aslanov m.\",\"3-cü mikrorayon q.\",\"Səbail r.\",\"Binəqədi r.\",\n",
    "        \"7-ci mikrorayon q.\",\"4-cü mikrorayon q.\",\"Dərnəgül m.\",\"Nizami r.\",\"8-ci kilometr q.\",\"Bakmil m.\",\"Kubinka q.\"\n",
    "       ,\"Koroğlu m.\"]\n",
    "uzaq = [\"Xırdalan\",\"Yeni Günəşli q.\",\"9-cu mikrorayon q.\",\"Pirallahı r.\",\"Binəqədi q.\",\"Xətai r.\",\"Qaraçuxur q.\",\n",
    "        \"Biləcəri q.\",\"Massiv D q.\",\"Həzi Aslanov q.\",\"Xəzər r.\",\"Bayıl q.\",\"Masazır q.\",\"M.Ə.Rəsulzadə q.\",\n",
    "        \"Köhnə Günəşli q.\",\"Şimal DRES q.\",\"Sabunçu q.\",\"Qaradağ r.\",\"Yeni Suraxanı q.\",\"6-cı mikrorayon q.\",\"Avtovağzal m.\",\n",
    "       \"Keşlə q.\",\"Suraxanı r.\",\"Xutor q.\",\"5-ci mikrorayon q.\",\"1-ci mikrorayon q.\",\"Suraxanı q.\",\"2-ci Alatava q.\"]\n",
    "bakietrafi = [\"Balaxanı q.\",\"Buzovna q.\",\"Novxanı q.\",\"Mərdəkan q.\",\"Nardaran q.\",\"Mehdiabad q.\",\"Əhmədli q.\",\n",
    "              \"Binə q.\",\"Şüvəlan q.\",\"Abşeron r.\",\"Kürdəxanı q.\",\"Zabrat q.\",\"Ceyranbatan q.\",\"Hövsan q.\",\"Sumqayıt\",\n",
    "             \"Pirşağı q.\",\"Hökməli q.\",\"Bilgəh q.\",\"Bülbülə q.\",\"Məmmədli q.\",\"Zığ q.\",\"Yeni Ramana q.\",\"Ramana q.\",\n",
    "             \"Zağulba q.\",\"Maştağa q.\",\"Saray q.\",\"Sulutəpə q.\",\"Lökbatan q.\",\"Görədil q.\",\"Fatmayı q.\",\"Əmircan q.\",\n",
    "             \"Şağan q.\",\"Qobu q.\",\"Sahil q.\",\"Türkan q.\",\"Çiçək q.\",\"Səngəçal q.\",\"Digah q.\",\"NZS q.\",\"Dübəndi q.\",\n",
    "              \"Günəşli q.\",\"Savalan q.\",\"20-ci sahə q.\",\"28 May q.\",\"Xocəsən q.\",\"Qala q.\",\"Böyükşor q.\",\"Müşviqabad q.\",\n",
    "              \"Xudat\",\"Puta q.\",\"Ələt q.\",\"Zirə q.\",\"Massiv V q.\",\"Yeni Balaxanı q.\",\"Şıxov q.\",\"Qobustan q.\",\"Pirəkəşkül q.\",\n",
    "             \"Gürgən q.\",\"Bahar q.\",\"Dədə Qorqud q.\",\"2-ci mikrorayon q.\",\"Şərq q.\",\"Yeni Corat q.\"]\n",
    "rayon = [\"Qəbələ\",\"Şəki\",\"Quba\",\"Şamaxı\",\"Siyəzən\",\"Lənkəran\",\"Xaçmaz\",\"Qax\",\"Gəncə\",\"Şəmkir\",\"İsmayıllı\",\"Göyçay\",\n",
    "         \"Neftçala\",\"Oğuz\",\"Mingəçevir\",\"Göygöl\",\"Balakən\",\"Qusar\",\"Xızı\",\"Sabirabad\",\"Şabran\",\"Cəlilabad\",\"Zaqatala\",\n",
    "         \"Şirvan\",\"Tovuz\",\"Gədəbəy\",\"Daşkəsən\",\"Masallı\",\"Salyan\",\"Astara\",\"Goranboy\",\"Naftalan\",\"İmişli\",\"Hacıqabul\",\n",
    "        \"Qazax\",\"Kürdəmir\",\"Ağsu\",\"Ucar\",\"Naxçıvan\"]"
   ]
  },
  {
   "cell_type": "code",
   "execution_count": 104,
   "id": "a20d2a07",
   "metadata": {},
   "outputs": [],
   "source": [
    "loclist = []\n",
    "loclistdx = []\n",
    "text = list(trd[\"Erazi\"])\n",
    "def textchecker(listoftags1,listoftags2,listoftags3,listoftags4,listoftags5,listoftext,listofboolens,\n",
    "                tag1,tag2,tag3,tag4,tag5):\n",
    "    for t in listoftext:\n",
    "        if any(tag1 in str(t) for tag1 in listoftags1):\n",
    "            listofboolens.append(tag1)\n",
    "        elif any(tag2 in str(t) for tag2 in listoftags2):\n",
    "            listofboolens.append(tag2)    \n",
    "        elif any(tag3 in str(t) for tag3 in listoftags3):\n",
    "            listofboolens.append(tag3)\n",
    "        elif any(tag4 in str(t) for tag4 in listoftags4):\n",
    "            listofboolens.append(tag4)\n",
    "        elif any(tag5 in str(t) for tag5 in listoftags5):\n",
    "            listofboolens.append(tag5)\n",
    "            \n",
    "            \n",
    "textchecker(merkez,orta,uzaq,bakietrafi,rayon,text,loclist,\"merkez\",\"orta\",\"uzaq\",\"bakietrafi\",\"rayon\")"
   ]
  },
  {
   "cell_type": "code",
   "execution_count": 105,
   "id": "165e9520",
   "metadata": {},
   "outputs": [],
   "source": [
    "loclists = []\n",
    "loclistdxs = []\n",
    "text = list(tsd[\"Erazi\"])\n",
    "def textchecker(listoftags1,listoftags2,listoftags3,listoftags4,listoftags5,listoftext,listofboolens,\n",
    "                tag1,tag2,tag3,tag4,tag5):\n",
    "    for t in listoftext:\n",
    "        if any(tag1 in str(t) for tag1 in listoftags1):\n",
    "            listofboolens.append(tag1)\n",
    "        elif any(tag2 in str(t) for tag2 in listoftags2):\n",
    "            listofboolens.append(tag2)    \n",
    "        elif any(tag3 in str(t) for tag3 in listoftags3):\n",
    "            listofboolens.append(tag3)\n",
    "        elif any(tag4 in str(t) for tag4 in listoftags4):\n",
    "            listofboolens.append(tag4)\n",
    "        elif any(tag5 in str(t) for tag5 in listoftags5):\n",
    "            listofboolens.append(tag5)\n",
    "            \n",
    "            \n",
    "textchecker(merkez,orta,uzaq,bakietrafi,rayon,text,loclists,\"merkez\",\"orta\",\"uzaq\",\"bakietrafi\",\"rayon\")"
   ]
  },
  {
   "cell_type": "code",
   "execution_count": 106,
   "id": "7daad9c8",
   "metadata": {},
   "outputs": [],
   "source": [
    "trd[\"Erazi\"] = pd.DataFrame(loclist)"
   ]
  },
  {
   "cell_type": "code",
   "execution_count": 107,
   "id": "4e8c19cb",
   "metadata": {},
   "outputs": [],
   "source": [
    "tsd[\"Erazi\"] = pd.DataFrame(loclists)"
   ]
  },
  {
   "cell_type": "code",
   "execution_count": 108,
   "id": "b471aafc",
   "metadata": {},
   "outputs": [],
   "source": [
    "trd[\"Erazi\"].fillna(\"orta\",inplace=True)"
   ]
  },
  {
   "cell_type": "code",
   "execution_count": 109,
   "id": "aaf9a785",
   "metadata": {},
   "outputs": [],
   "source": [
    "tsd[\"Erazi\"].fillna(\"orta\",inplace=True)"
   ]
  },
  {
   "cell_type": "code",
   "execution_count": 120,
   "id": "30d1c77f",
   "metadata": {},
   "outputs": [
    {
     "data": {
      "text/plain": [
       "<AxesSubplot:>"
      ]
     },
     "execution_count": 120,
     "metadata": {},
     "output_type": "execute_result"
    },
    {
     "data": {
      "image/png": "[encoded data removed]",
      "text/plain": [
       "<Figure size 432x288 with 2 Axes>"
      ]
     },
     "metadata": {
      "needs_background": "light"
     },
     "output_type": "display_data"
    }
   ],
   "source": [
    "sns.heatmap(trd.corr(),cmap=\"Greens\",annot=True)"
   ]
  },
  {
   "cell_type": "code",
   "execution_count": 103,
   "id": "027b6213",
   "metadata": {},
   "outputs": [
    {
     "data": {
      "text/html": [
       "<div>\n",
       "<style scoped>\n",
       "    .dataframe tbody tr th:only-of-type {\n",
       "        vertical-align: middle;\n",
       "    }\n",
       "\n",
       "    .dataframe tbody tr th {\n",
       "        vertical-align: top;\n",
       "    }\n",
       "\n",
       "    .dataframe thead th {\n",
       "        text-align: right;\n",
       "    }\n",
       "</style>\n",
       "<table border=\"1\" class=\"dataframe\">\n",
       "  <thead>\n",
       "    <tr style=\"text-align: right;\">\n",
       "      <th></th>\n",
       "      <th>Elan_ID</th>\n",
       "      <th>Views</th>\n",
       "      <th>Category</th>\n",
       "      <th>Area</th>\n",
       "      <th>Number of rooms</th>\n",
       "      <th>Title</th>\n",
       "      <th>Price</th>\n",
       "      <th>Erazi</th>\n",
       "    </tr>\n",
       "  </thead>\n",
       "  <tbody>\n",
       "    <tr>\n",
       "      <th>0</th>\n",
       "      <td>19286</td>\n",
       "      <td>106</td>\n",
       "      <td>Yeni tikili</td>\n",
       "      <td>110 m²</td>\n",
       "      <td>3.0</td>\n",
       "      <td>i</td>\n",
       "      <td>750.0</td>\n",
       "      <td>İnşaatçılar m.</td>\n",
       "    </tr>\n",
       "    <tr>\n",
       "      <th>1</th>\n",
       "      <td>2989</td>\n",
       "      <td>185</td>\n",
       "      <td>Köhnə tikili</td>\n",
       "      <td>80 m²</td>\n",
       "      <td>3.0</td>\n",
       "      <td>i</td>\n",
       "      <td>450.0</td>\n",
       "      <td>Bakıxanov q.</td>\n",
       "    </tr>\n",
       "    <tr>\n",
       "      <th>2</th>\n",
       "      <td>20316</td>\n",
       "      <td>162</td>\n",
       "      <td>Ofis</td>\n",
       "      <td>64 m²</td>\n",
       "      <td>3.0</td>\n",
       "      <td>i</td>\n",
       "      <td>1300.0</td>\n",
       "      <td>Nizami m.</td>\n",
       "    </tr>\n",
       "    <tr>\n",
       "      <th>3</th>\n",
       "      <td>4591</td>\n",
       "      <td>92</td>\n",
       "      <td>Ev / Villa</td>\n",
       "      <td>100 m²</td>\n",
       "      <td>3.0</td>\n",
       "      <td>i</td>\n",
       "      <td>60.0</td>\n",
       "      <td>Qəbələ</td>\n",
       "    </tr>\n",
       "    <tr>\n",
       "      <th>4</th>\n",
       "      <td>19751</td>\n",
       "      <td>189</td>\n",
       "      <td>Yeni tikili</td>\n",
       "      <td>42 m²</td>\n",
       "      <td>2.0</td>\n",
       "      <td>s</td>\n",
       "      <td>43000.0</td>\n",
       "      <td>Xırdalan</td>\n",
       "    </tr>\n",
       "  </tbody>\n",
       "</table>\n",
       "</div>"
      ],
      "text/plain": [
       "   Elan_ID  Views      Category    Area  Number of rooms Title    Price  \\\n",
       "0    19286    106   Yeni tikili  110 m²              3.0     i    750.0   \n",
       "1     2989    185  Köhnə tikili   80 m²              3.0     i    450.0   \n",
       "2    20316    162          Ofis   64 m²              3.0     i   1300.0   \n",
       "3     4591     92    Ev / Villa  100 m²              3.0     i     60.0   \n",
       "4    19751    189   Yeni tikili   42 m²              2.0     s  43000.0   \n",
       "\n",
       "             Erazi  \n",
       "0   İnşaatçılar m.  \n",
       "1     Bakıxanov q.  \n",
       "2        Nizami m.  \n",
       "3           Qəbələ  \n",
       "4         Xırdalan  "
      ]
     },
     "execution_count": 103,
     "metadata": {},
     "output_type": "execute_result"
    }
   ],
   "source": [
    "trd.head()"
   ]
  },
  {
   "cell_type": "code",
   "execution_count": 100,
   "id": "a67f7ff8",
   "metadata": {},
   "outputs": [],
   "source": [
    "icarelist=[]\n",
    "for t in trd[\"Title\"]:\n",
    "    if t.startswith(\"İcarə\"):\n",
    "        icarelist.append(\"i\")\n",
    "    elif t.startswith(\"Sat\"):\n",
    "        icarelist.append(\"s\")\n",
    "    else:\n",
    "        icarelist.append(\"d\")"
   ]
  },
  {
   "cell_type": "code",
   "execution_count": 101,
   "id": "f5d12c4e",
   "metadata": {},
   "outputs": [],
   "source": [
    "icarelists=[]\n",
    "for t in tsd[\"Title\"]:\n",
    "    if t.startswith(\"İcarə\"):\n",
    "        icarelists.append(\"i\")\n",
    "    elif t.startswith(\"Sat\"):\n",
    "        icarelists.append(\"s\")\n",
    "    else:\n",
    "        icarelists.append(\"d\")"
   ]
  },
  {
   "cell_type": "code",
   "execution_count": 102,
   "id": "27f8ce68",
   "metadata": {},
   "outputs": [],
   "source": [
    "trd[\"Title\"]=icarelist\n",
    "tsd[\"Title\"]=icarelists"
   ]
  },
  {
   "cell_type": "code",
   "execution_count": 113,
   "id": "e1a2a149",
   "metadata": {},
   "outputs": [
    {
     "data": {
      "text/html": [
       "<div>\n",
       "<style scoped>\n",
       "    .dataframe tbody tr th:only-of-type {\n",
       "        vertical-align: middle;\n",
       "    }\n",
       "\n",
       "    .dataframe tbody tr th {\n",
       "        vertical-align: top;\n",
       "    }\n",
       "\n",
       "    .dataframe thead th {\n",
       "        text-align: right;\n",
       "    }\n",
       "</style>\n",
       "<table border=\"1\" class=\"dataframe\">\n",
       "  <thead>\n",
       "    <tr style=\"text-align: right;\">\n",
       "      <th></th>\n",
       "      <th>Elan_ID</th>\n",
       "      <th>Views</th>\n",
       "      <th>Category</th>\n",
       "      <th>Area</th>\n",
       "      <th>Number of rooms</th>\n",
       "      <th>Title</th>\n",
       "      <th>Price</th>\n",
       "      <th>Erazi</th>\n",
       "    </tr>\n",
       "  </thead>\n",
       "  <tbody>\n",
       "    <tr>\n",
       "      <th>0</th>\n",
       "      <td>19286</td>\n",
       "      <td>106</td>\n",
       "      <td>Yeni tikili</td>\n",
       "      <td>110.0</td>\n",
       "      <td>3.0</td>\n",
       "      <td>i</td>\n",
       "      <td>750.0</td>\n",
       "      <td>orta</td>\n",
       "    </tr>\n",
       "    <tr>\n",
       "      <th>1</th>\n",
       "      <td>2989</td>\n",
       "      <td>185</td>\n",
       "      <td>Köhnə tikili</td>\n",
       "      <td>80.0</td>\n",
       "      <td>3.0</td>\n",
       "      <td>i</td>\n",
       "      <td>450.0</td>\n",
       "      <td>orta</td>\n",
       "    </tr>\n",
       "    <tr>\n",
       "      <th>2</th>\n",
       "      <td>20316</td>\n",
       "      <td>162</td>\n",
       "      <td>Ofis</td>\n",
       "      <td>64.0</td>\n",
       "      <td>3.0</td>\n",
       "      <td>i</td>\n",
       "      <td>1300.0</td>\n",
       "      <td>merkez</td>\n",
       "    </tr>\n",
       "    <tr>\n",
       "      <th>3</th>\n",
       "      <td>4591</td>\n",
       "      <td>92</td>\n",
       "      <td>Ev / Villa</td>\n",
       "      <td>100.0</td>\n",
       "      <td>3.0</td>\n",
       "      <td>i</td>\n",
       "      <td>60.0</td>\n",
       "      <td>rayon</td>\n",
       "    </tr>\n",
       "    <tr>\n",
       "      <th>4</th>\n",
       "      <td>19751</td>\n",
       "      <td>189</td>\n",
       "      <td>Yeni tikili</td>\n",
       "      <td>42.0</td>\n",
       "      <td>2.0</td>\n",
       "      <td>s</td>\n",
       "      <td>43000.0</td>\n",
       "      <td>uzaq</td>\n",
       "    </tr>\n",
       "  </tbody>\n",
       "</table>\n",
       "</div>"
      ],
      "text/plain": [
       "   Elan_ID  Views      Category   Area  Number of rooms Title    Price   Erazi\n",
       "0    19286    106   Yeni tikili  110.0              3.0     i    750.0    orta\n",
       "1     2989    185  Köhnə tikili   80.0              3.0     i    450.0    orta\n",
       "2    20316    162          Ofis   64.0              3.0     i   1300.0  merkez\n",
       "3     4591     92    Ev / Villa  100.0              3.0     i     60.0   rayon\n",
       "4    19751    189   Yeni tikili   42.0              2.0     s  43000.0    uzaq"
      ]
     },
     "execution_count": 113,
     "metadata": {},
     "output_type": "execute_result"
    }
   ],
   "source": [
    "trd.head()"
   ]
  },
  {
   "cell_type": "code",
   "execution_count": 111,
   "id": "e014f2a1",
   "metadata": {},
   "outputs": [],
   "source": [
    "arealist = []\n",
    "sotindexlist = []\n",
    "for a in trd[\"Area\"]:\n",
    "    if \" m²\" in a:\n",
    "        a = a.replace(\" m²\",\"\")\n",
    "        arealist.append(a)\n",
    "    elif \" sot\" in a:\n",
    "        sotindexlist.append(list(trd[\"Area\"]).index(a))\n",
    "        a = a.replace(\" sot\",\"\")\n",
    "        arealist.append(a)"
   ]
  },
  {
   "cell_type": "code",
   "execution_count": 112,
   "id": "65015932",
   "metadata": {},
   "outputs": [],
   "source": [
    "trd[\"Area\"] = pd.DataFrame(arealist)\n",
    "trd[\"Area\"] = trd[\"Area\"].astype(float)\n",
    "#trd.drop(sotindexlist,inplace=True)\n",
    "#trd[\"Area\"].loc[sotindexlist] = trd[\"Area\"].loc[sotindexlist]*100"
   ]
  },
  {
   "cell_type": "code",
   "execution_count": 115,
   "id": "ec4ec5ba",
   "metadata": {},
   "outputs": [],
   "source": [
    "trd[\"Area\"].loc[sotindexlist] = trd[\"Area\"].loc[sotindexlist]*10000"
   ]
  },
  {
   "cell_type": "code",
   "execution_count": 117,
   "id": "ae793df9",
   "metadata": {},
   "outputs": [
    {
     "data": {
      "text/plain": [
       "218"
      ]
     },
     "execution_count": 117,
     "metadata": {},
     "output_type": "execute_result"
    }
   ],
   "source": [
    "trd[trd[\"Area\"]>2500][\"Price\"].count()"
   ]
  },
  {
   "cell_type": "code",
   "execution_count": 119,
   "id": "b22f5851",
   "metadata": {},
   "outputs": [],
   "source": [
    "trd.drop(trd[trd[\"Area\"]>2500].index,inplace=True)"
   ]
  },
  {
   "cell_type": "code",
   "execution_count": 122,
   "id": "1a1e2175",
   "metadata": {},
   "outputs": [],
   "source": [
    "arealists = []\n",
    "sotindexlists = []\n",
    "for a in tsd[\"Area\"]:\n",
    "    if \" m²\" in a:\n",
    "        a = a.replace(\" m²\",\"\")\n",
    "        arealists.append(a)\n",
    "    elif \" sot\" in a:\n",
    "        sotindexlists.append(list(tsd[\"Area\"]).index(a))\n",
    "        a = a.replace(\" sot\",\"\")\n",
    "        arealists.append(a)"
   ]
  },
  {
   "cell_type": "code",
   "execution_count": 123,
   "id": "6992d012",
   "metadata": {},
   "outputs": [],
   "source": [
    "tsd[\"Area\"] = pd.DataFrame(arealists)\n",
    "tsd[\"Area\"] = tsd[\"Area\"].astype(float)\n",
    "#tsd[\"Area\"].loc[sotindexlists] = tsd[\"Area\"].loc[sotindexlists]*10000"
   ]
  },
  {
   "cell_type": "code",
   "execution_count": 124,
   "id": "d08174b4",
   "metadata": {},
   "outputs": [
    {
     "name": "stdout",
     "output_type": "stream",
     "text": [
      "Yeni tikili           149227.10270774976           9639           115.19635854341722         1295.415103347268\n",
      "Köhnə tikili           77271.2073227612           4288           70.27026585820897         1099.6287886355617\n",
      "Ofis           36844.43786982248           338           166.65384615384616         221.08363365229275\n",
      "Ev / Villa           215875.12789526687           1986           241.29808660624366         894.6408607356153\n",
      "Obyekt           480721.33167825226           1007           326.7658391261172         1471.1492883217668\n",
      "Bağ           276236.9651707971           1493           283.24152712659077         975.2700035660268\n",
      "Qaraj           19073.809523809523           21           26.904761904761905         708.9380530973451\n",
      "Torpaq           230027.57708333334           960           29.064583333333335         7914.360045874847\n"
     ]
    }
   ],
   "source": [
    "for cat in trd[\"Category\"].unique():\n",
    "    a = trd[trd[\"Category\"]==cat][\"Price\"].mean()\n",
    "    b = trd[trd[\"Category\"]==cat][\"Price\"].count()\n",
    "    c = trd[trd[\"Category\"]==cat][\"Area\"].mean()\n",
    "    d = a/c\n",
    "    print(str(cat) +\"           \"+ str(a)+ \"           \" + str(b) + \"           \"+ str(c)+\"         \"+str(d))"
   ]
  },
  {
   "cell_type": "code",
   "execution_count": 125,
   "id": "7ef416b8",
   "metadata": {},
   "outputs": [],
   "source": [
    "trd[\"Category\"].loc[trd[trd[\"Category\"]==\"Yeni tikili\"].index] = \"Menzil\"\n",
    "trd[\"Category\"].loc[trd[trd[\"Category\"]==\"Köhnə tikili\"].index] = \"Menzil\"\n",
    "trd[\"Category\"].loc[trd[trd[\"Category\"]==\"Ofis\"].index] = \"Obyekt\"\n",
    "trd[\"Category\"].loc[trd[trd[\"Category\"]==\"Ev / Villa\"].index] = \"Bag\"\n",
    "trd[\"Category\"].loc[trd[trd[\"Category\"]==\"Obyekt\"].index] = \"Obyekt\"\n",
    "trd[\"Category\"].loc[trd[trd[\"Category\"]==\"Bağ\"].index] = \"Bag\"\n",
    "trd[\"Category\"].loc[trd[trd[\"Category\"]==\"Torpaq\"].index] = \"Bag\"\n",
    "trd[\"Category\"].loc[trd[trd[\"Category\"]==\"Qaraj\"].index] = \"Bag\""
   ]
  },
  {
   "cell_type": "code",
   "execution_count": 126,
   "id": "c96bf1d5",
   "metadata": {},
   "outputs": [],
   "source": [
    "tsd[\"Category\"].loc[tsd[tsd[\"Category\"]==\"Yeni tikili\"].index] = \"Menzil\"\n",
    "tsd[\"Category\"].loc[tsd[tsd[\"Category\"]==\"Köhnə tikili\"].index] = \"Menzil\"\n",
    "tsd[\"Category\"].loc[tsd[tsd[\"Category\"]==\"Ofis\"].index] = \"Obyekt\"\n",
    "tsd[\"Category\"].loc[tsd[tsd[\"Category\"]==\"Ev / Villa\"].index] = \"Bag\"\n",
    "tsd[\"Category\"].loc[tsd[tsd[\"Category\"]==\"Obyekt\"].index] = \"Obyekt\"\n",
    "tsd[\"Category\"].loc[tsd[tsd[\"Category\"]==\"Bağ\"].index] = \"Bag\"\n",
    "tsd[\"Category\"].loc[tsd[tsd[\"Category\"]==\"Torpaq\"].index] = \"Bag\"\n",
    "tsd[\"Category\"].loc[tsd[tsd[\"Category\"]==\"Qaraj\"].index] = \"Bag\""
   ]
  },
  {
   "cell_type": "code",
   "execution_count": 127,
   "id": "943d7973",
   "metadata": {},
   "outputs": [
    {
     "data": {
      "text/plain": [
       "Elan_ID            66\n",
       "Views              66\n",
       "Category           66\n",
       "Area               66\n",
       "Number of rooms    66\n",
       "Title              66\n",
       "Price              66\n",
       "Erazi              66\n",
       "dtype: int64"
      ]
     },
     "execution_count": 127,
     "metadata": {},
     "output_type": "execute_result"
    }
   ],
   "source": [
    "trd[trd[\"Number of rooms\"]>10].count()"
   ]
  },
  {
   "cell_type": "code",
   "execution_count": 128,
   "id": "c7914bbf",
   "metadata": {},
   "outputs": [],
   "source": [
    "trd.drop(trd[trd[\"Number of rooms\"]>10].index,inplace=True)\n",
    "#tsd.drop(tsd[tsd[\"Number of rooms\"]>10].index,inplace=True)"
   ]
  },
  {
   "cell_type": "code",
   "execution_count": 129,
   "id": "1f06b912",
   "metadata": {},
   "outputs": [
    {
     "name": "stdout",
     "output_type": "stream",
     "text": [
      "3.0           125559.47917314268           6434           110.06492073360269         1140.7765374859305\n",
      "2.0           68823.88905547226           5336           68.34370314842585         1007.0260446087267\n",
      "nan           nan           0           nan         nan\n",
      "4.0           225239.37797902763           2098           164.40614871306002         1370.0179691706091\n",
      "1.0           44723.51063829787           940           46.16734042553191         968.7261649918313\n",
      "5.0           254061.5430894309           615           225.19609756097563         1128.1791551500553\n",
      "8.0           573782.1666666666           120           452.1358333333334         1269.0482026971981\n",
      "7.0           403528.04761904763           210           399.4952380952381         1010.094762438315\n",
      "10.0           691925.8301886793           53           612.3075471698113         1130.0298900232033\n",
      "6.0           293320.60975609755           328           290.70243902439023         1009.006359700641\n",
      "9.0           421318.6274509804           51           441.21372549019605         954.9082521920373\n"
     ]
    }
   ],
   "source": [
    "for cat in trd[\"Number of rooms\"].unique():\n",
    "    a = trd[trd[\"Number of rooms\"]==cat][\"Price\"].mean()\n",
    "    b = trd[trd[\"Number of rooms\"]==cat][\"Price\"].count()\n",
    "    c = trd[trd[\"Number of rooms\"]==cat][\"Area\"].mean()\n",
    "    d = a/c\n",
    "    print(str(cat) +\"           \"+ str(a)+ \"           \" + str(b) + \"           \"+ str(c)+\"         \"+str(d))"
   ]
  },
  {
   "cell_type": "code",
   "execution_count": 130,
   "id": "82eb9698",
   "metadata": {},
   "outputs": [],
   "source": [
    "rn =  trd[trd[\"Number of rooms\"].isnull()][\"Area\"]\n",
    "rnl = pd.qcut(rn,10,labels = [1,2,3,4,5,6,7,8,9,10])\n",
    "for i in rnl.index:\n",
    "    trd[\"Number of rooms\"].loc[i] = rnl[i]\n",
    "trd[\"Number of rooms\"] = trd[\"Number of rooms\"].astype(float)"
   ]
  },
  {
   "cell_type": "code",
   "execution_count": 131,
   "id": "9f5bc7db",
   "metadata": {},
   "outputs": [
    {
     "data": {
      "text/plain": [
       "7         3\n",
       "17        5\n",
       "24        7\n",
       "29        8\n",
       "33       10\n",
       "         ..\n",
       "19908     4\n",
       "19918    10\n",
       "19930     8\n",
       "19931     9\n",
       "19937     6\n",
       "Name: Area, Length: 3481, dtype: category\n",
       "Categories (10, int64): [1 < 2 < 3 < 4 ... 7 < 8 < 9 < 10]"
      ]
     },
     "execution_count": 131,
     "metadata": {},
     "output_type": "execute_result"
    }
   ],
   "source": [
    "rnl"
   ]
  },
  {
   "cell_type": "code",
   "execution_count": 132,
   "id": "9cb83732",
   "metadata": {},
   "outputs": [],
   "source": [
    "rns =  tsd[tsd[\"Number of rooms\"].isnull()][\"Area\"]\n",
    "rnls = pd.qcut(rns,10,labels = [1,2,3,4,5,6,7,8,9,10])\n",
    "for i in rnls.index:\n",
    "    tsd[\"Number of rooms\"].loc[i] = rnls[i]\n",
    "tsd[\"Number of rooms\"] = tsd[\"Number of rooms\"].astype(float)"
   ]
  },
  {
   "cell_type": "code",
   "execution_count": 134,
   "id": "456a8ee2",
   "metadata": {},
   "outputs": [],
   "source": [
    "trd[\"Number of rooms\"].loc[trd[trd[\"Number of rooms\"]==1.0].index] = \"1-2\"\n",
    "trd[\"Number of rooms\"].loc[trd[trd[\"Number of rooms\"]==2.0].index] = \"1-2\"\n",
    "trd[\"Number of rooms\"].loc[trd[trd[\"Number of rooms\"]==3.0].index] = \"3\"\n",
    "trd[\"Number of rooms\"].loc[trd[trd[\"Number of rooms\"]==4.0].index] = \"4-6\"\n",
    "trd[\"Number of rooms\"].loc[trd[trd[\"Number of rooms\"]==5.0].index] = \"4-6\"\n",
    "trd[\"Number of rooms\"].loc[trd[trd[\"Number of rooms\"]==6.0].index] = \"4-6\"\n",
    "trd[\"Number of rooms\"].loc[trd[trd[\"Number of rooms\"]==7.0].index] = \"7-10\"\n",
    "trd[\"Number of rooms\"].loc[trd[trd[\"Number of rooms\"]==8.0].index] = \"7-10\"\n",
    "trd[\"Number of rooms\"].loc[trd[trd[\"Number of rooms\"]==9.0].index] = \"7-10\"\n",
    "trd[\"Number of rooms\"].loc[trd[trd[\"Number of rooms\"]==10.0].index] = \"7-10\""
   ]
  },
  {
   "cell_type": "code",
   "execution_count": 135,
   "id": "e4d8e427",
   "metadata": {},
   "outputs": [],
   "source": [
    "tsd[\"Number of rooms\"].loc[tsd[tsd[\"Number of rooms\"]==1.0].index] = \"1-2\"\n",
    "tsd[\"Number of rooms\"].loc[tsd[tsd[\"Number of rooms\"]==2.0].index] = \"1-2\"\n",
    "tsd[\"Number of rooms\"].loc[tsd[tsd[\"Number of rooms\"]==3.0].index] = \"3\"\n",
    "tsd[\"Number of rooms\"].loc[tsd[tsd[\"Number of rooms\"]==4.0].index] = \"4-6\"\n",
    "tsd[\"Number of rooms\"].loc[tsd[tsd[\"Number of rooms\"]==5.0].index] = \"4-6\"\n",
    "tsd[\"Number of rooms\"].loc[tsd[tsd[\"Number of rooms\"]==6.0].index] = \"4-6\"\n",
    "tsd[\"Number of rooms\"].loc[tsd[tsd[\"Number of rooms\"]==7.0].index] = \"7-10\"\n",
    "tsd[\"Number of rooms\"].loc[tsd[tsd[\"Number of rooms\"]==8.0].index] = \"7-10\"\n",
    "tsd[\"Number of rooms\"].loc[tsd[tsd[\"Number of rooms\"]==9.0].index] = \"7-10\"\n",
    "tsd[\"Number of rooms\"].loc[tsd[tsd[\"Number of rooms\"]==11.0].index] = \"7-10\"\n",
    "tsd[\"Number of rooms\"].loc[tsd[tsd[\"Number of rooms\"]==12.0].index] = \"7-10\"\n",
    "tsd[\"Number of rooms\"].loc[tsd[tsd[\"Number of rooms\"]==13.0].index] = \"7-10\"\n",
    "tsd[\"Number of rooms\"].loc[tsd[tsd[\"Number of rooms\"]==14.0].index] = \"7-10\"\n",
    "tsd[\"Number of rooms\"].loc[tsd[tsd[\"Number of rooms\"]==15.0].index] = \"7-10\"\n",
    "tsd[\"Number of rooms\"].loc[tsd[tsd[\"Number of rooms\"]==16.0].index] = \"7-10\"\n",
    "tsd[\"Number of rooms\"].loc[tsd[tsd[\"Number of rooms\"]==17.0].index] = \"7-10\"\n",
    "tsd[\"Number of rooms\"].loc[tsd[tsd[\"Number of rooms\"]==18.0].index] = \"7-10\"\n",
    "tsd[\"Number of rooms\"].loc[tsd[tsd[\"Number of rooms\"]==19.0].index] = \"7-10\"\n",
    "tsd[\"Number of rooms\"].loc[tsd[tsd[\"Number of rooms\"]==20.0].index] = \"7-10\""
   ]
  },
  {
   "cell_type": "code",
   "execution_count": 136,
   "id": "6d859cdb",
   "metadata": {},
   "outputs": [],
   "source": [
    "trd[\"Number of rooms\"] = trd[\"Number of rooms\"].astype(str)\n",
    "tsd[\"Number of rooms\"] = tsd[\"Number of rooms\"].astype(str)"
   ]
  },
  {
   "cell_type": "code",
   "execution_count": 137,
   "id": "45f7398f",
   "metadata": {},
   "outputs": [
    {
     "data": {
      "text/html": [
       "<div>\n",
       "<style scoped>\n",
       "    .dataframe tbody tr th:only-of-type {\n",
       "        vertical-align: middle;\n",
       "    }\n",
       "\n",
       "    .dataframe tbody tr th {\n",
       "        vertical-align: top;\n",
       "    }\n",
       "\n",
       "    .dataframe thead th {\n",
       "        text-align: right;\n",
       "    }\n",
       "</style>\n",
       "<table border=\"1\" class=\"dataframe\">\n",
       "  <thead>\n",
       "    <tr style=\"text-align: right;\">\n",
       "      <th></th>\n",
       "      <th>Elan_ID</th>\n",
       "      <th>Views</th>\n",
       "      <th>Category</th>\n",
       "      <th>Area</th>\n",
       "      <th>Number of rooms</th>\n",
       "      <th>Title</th>\n",
       "      <th>Price</th>\n",
       "      <th>Erazi</th>\n",
       "    </tr>\n",
       "  </thead>\n",
       "  <tbody>\n",
       "    <tr>\n",
       "      <th>0</th>\n",
       "      <td>19286</td>\n",
       "      <td>106</td>\n",
       "      <td>Menzil</td>\n",
       "      <td>110.0</td>\n",
       "      <td>3</td>\n",
       "      <td>i</td>\n",
       "      <td>750.0</td>\n",
       "      <td>orta</td>\n",
       "    </tr>\n",
       "    <tr>\n",
       "      <th>1</th>\n",
       "      <td>2989</td>\n",
       "      <td>185</td>\n",
       "      <td>Menzil</td>\n",
       "      <td>80.0</td>\n",
       "      <td>3</td>\n",
       "      <td>i</td>\n",
       "      <td>450.0</td>\n",
       "      <td>orta</td>\n",
       "    </tr>\n",
       "    <tr>\n",
       "      <th>2</th>\n",
       "      <td>20316</td>\n",
       "      <td>162</td>\n",
       "      <td>Obyekt</td>\n",
       "      <td>64.0</td>\n",
       "      <td>3</td>\n",
       "      <td>i</td>\n",
       "      <td>1300.0</td>\n",
       "      <td>merkez</td>\n",
       "    </tr>\n",
       "    <tr>\n",
       "      <th>3</th>\n",
       "      <td>4591</td>\n",
       "      <td>92</td>\n",
       "      <td>Bag</td>\n",
       "      <td>100.0</td>\n",
       "      <td>3</td>\n",
       "      <td>i</td>\n",
       "      <td>60.0</td>\n",
       "      <td>rayon</td>\n",
       "    </tr>\n",
       "    <tr>\n",
       "      <th>4</th>\n",
       "      <td>19751</td>\n",
       "      <td>189</td>\n",
       "      <td>Menzil</td>\n",
       "      <td>42.0</td>\n",
       "      <td>1-2</td>\n",
       "      <td>s</td>\n",
       "      <td>43000.0</td>\n",
       "      <td>uzaq</td>\n",
       "    </tr>\n",
       "  </tbody>\n",
       "</table>\n",
       "</div>"
      ],
      "text/plain": [
       "   Elan_ID  Views Category   Area Number of rooms Title    Price   Erazi\n",
       "0    19286    106   Menzil  110.0               3     i    750.0    orta\n",
       "1     2989    185   Menzil   80.0               3     i    450.0    orta\n",
       "2    20316    162   Obyekt   64.0               3     i   1300.0  merkez\n",
       "3     4591     92      Bag  100.0               3     i     60.0   rayon\n",
       "4    19751    189   Menzil   42.0             1-2     s  43000.0    uzaq"
      ]
     },
     "execution_count": 137,
     "metadata": {},
     "output_type": "execute_result"
    }
   ],
   "source": [
    "trd.head()"
   ]
  },
  {
   "cell_type": "code",
   "execution_count": 138,
   "id": "36c83cfa",
   "metadata": {},
   "outputs": [],
   "source": [
    "from sklearn.preprocessing import StandardScaler as SS\n",
    "mms = SS()\n",
    "trd[\"Area\"] = mms.fit_transform(trd[\"Area\"].values.reshape(-1,1))\n",
    "tsd[\"Area\"] = mms.fit_transform(tsd[\"Area\"].values.reshape(-1,1))\n",
    "#trd[\"Views\"] = mms.fit_transform(trd[\"Views\"].values.reshape(-1,1))\n",
    "#tsd[\"Views\"] = mms.fit_transform(tsd[\"Views\"].values.reshape(-1,1))"
   ]
  },
  {
   "cell_type": "code",
   "execution_count": 139,
   "id": "0132ae56",
   "metadata": {},
   "outputs": [
    {
     "name": "stdout",
     "output_type": "stream",
     "text": [
      "1   nan\n",
      "1   166359.83667242958\n",
      "100   169488.54903474904\n",
      "100   166230.9294336119\n",
      "1000   159742.85462578802\n",
      "1000   277455.61392405065\n",
      "2500   161914.08580294802\n",
      "2500   426053.4712990937\n",
      "5000   164541.20040920717\n",
      "5000   472862.7586206897\n",
      "7500   165477.2439683754\n",
      "7500   450019.34426229505\n",
      "10000   165674.49398818015\n",
      "10000   520357.36842105264\n",
      "12500   165863.5367070563\n",
      "12500   572540.0\n",
      "15000   165853.0168939548\n",
      "15000   877790.0\n",
      "17500   165869.3107517038\n",
      "17500   2577540.0\n"
     ]
    }
   ],
   "source": [
    "checkerlist = [1,100,1000,2500,5000,7500,10000,12500,15000,17500]\n",
    "for check in checkerlist:\n",
    "    print(str(check) + \"   \" + str(trd[trd[\"Views\"]<check][\"Price\"].mean()))\n",
    "    print(str(check) + \"   \" + str(trd[trd[\"Views\"]>check][\"Price\"].mean()))"
   ]
  },
  {
   "cell_type": "code",
   "execution_count": 140,
   "id": "56c92b34",
   "metadata": {},
   "outputs": [
    {
     "name": "stdout",
     "output_type": "stream",
     "text": [
      "161914.08580294802\n",
      "411595.9322580645\n",
      "639474.2857142857\n"
     ]
    }
   ],
   "source": [
    "print(trd[trd[\"Views\"]<2500][\"Price\"].mean())\n",
    "print(trd[(trd[\"Views\"]>2500)&(trd[\"Views\"]<13000)][\"Price\"].mean())\n",
    "print(trd[(trd[\"Views\"]>13000)][\"Price\"].mean())"
   ]
  },
  {
   "cell_type": "code",
   "execution_count": 141,
   "id": "c79edb74",
   "metadata": {},
   "outputs": [],
   "source": [
    "bins = pd.IntervalIndex.from_tuples([(0, 2500), (2500, 13000), (13000, 1000000000)])\n",
    "cv = pd.cut(trd[\"Views\"],bins,labels=[\"az\",\"orta\",\"cox\"]) \n",
    "cvs = pd.cut(tsd[\"Views\"],bins,labels=[\"az\",\"orta\",\"cox\"]) "
   ]
  },
  {
   "cell_type": "code",
   "execution_count": 142,
   "id": "a2bfef81",
   "metadata": {},
   "outputs": [],
   "source": [
    "trd[\"Views\"]=cv\n",
    "tsd[\"Views\"]=cvs"
   ]
  },
  {
   "cell_type": "code",
   "execution_count": 143,
   "id": "52f0e379",
   "metadata": {},
   "outputs": [
    {
     "data": {
      "text/plain": [
       "array(['Menzil', 'Bag', 'Obyekt'], dtype=object)"
      ]
     },
     "execution_count": 143,
     "metadata": {},
     "output_type": "execute_result"
    }
   ],
   "source": [
    "tsd[\"Category\"].unique()"
   ]
  },
  {
   "cell_type": "code",
   "execution_count": 144,
   "id": "5b70fcf0",
   "metadata": {},
   "outputs": [],
   "source": [
    "#from sklearn.preprocessing import LabelEncoder as LE\n",
    "#le = LE()\n",
    "#forencoding = [\"Category\",\"Number of rooms\",\"Title\",\"Erazi\",\"Views\"]\n",
    "#for col in forencoding:\n",
    "#    trd[col] = le.fit_transform(trd[col])\n",
    "#for col in forencoding:\n",
    "#    tsd[col] = le.fit_transform(tsd[col])"
   ]
  },
  {
   "cell_type": "code",
   "execution_count": 145,
   "id": "08851055",
   "metadata": {},
   "outputs": [],
   "source": [
    "forencoding = [\"Category\",\"Number of rooms\",\"Title\",\"Erazi\",\"Views\"]\n",
    "dummies = pd.get_dummies(trd[forencoding])\n",
    "trd = pd.concat([trd,dummies],axis=1)\n",
    "trd.drop(forencoding,axis=1,inplace=True)\n",
    "dropdums = [\"Category_Obyekt\",\"Number of rooms_7-10\",\"Title_i\",\"Erazi_uzaq\",\"Views_(0, 2500]\"]\n",
    "trd.drop(dropdums,axis=1,inplace=True)"
   ]
  },
  {
   "cell_type": "code",
   "execution_count": 146,
   "id": "5221b375",
   "metadata": {},
   "outputs": [],
   "source": [
    "forencoding = [\"Category\",\"Number of rooms\",\"Title\",\"Erazi\",\"Views\"]\n",
    "dummiess = pd.get_dummies(tsd[forencoding])\n",
    "tsd = pd.concat([tsd,dummiess],axis=1)\n",
    "tsd.drop(forencoding,axis=1,inplace=True)\n",
    "dropdums = [\"Category_Obyekt\",\"Number of rooms_7-10\",\"Title_i\",\"Erazi_uzaq\",\"Views_(0, 2500]\"]\n",
    "tsd.drop(dropdums,axis=1,inplace=True)"
   ]
  },
  {
   "cell_type": "code",
   "execution_count": 147,
   "id": "9806bc36",
   "metadata": {},
   "outputs": [
    {
     "data": {
      "text/plain": [
       "<AxesSubplot:xlabel='Area', ylabel='Density'>"
      ]
     },
     "execution_count": 147,
     "metadata": {},
     "output_type": "execute_result"
    },
    {
     "data": {
      "image/png": "[encoded data removed]",
      "text/plain": [
       "<Figure size 432x288 with 1 Axes>"
      ]
     },
     "metadata": {
      "needs_background": "light"
     },
     "output_type": "display_data"
    }
   ],
   "source": [
    "sns.distplot(trd[\"Area\"])"
   ]
  },
  {
   "cell_type": "code",
   "execution_count": 148,
   "id": "f26fb429",
   "metadata": {},
   "outputs": [
    {
     "name": "stdout",
     "output_type": "stream",
     "text": [
      "0.4456170385328706\n",
      "205738.74885348746\n",
      "0.4035180110779114\n",
      "213407.57194982268\n",
      "0.6055803730529752\n",
      "173536.33310988185\n"
     ]
    }
   ],
   "source": [
    "from sklearn.model_selection import train_test_split as tts\n",
    "\n",
    "#X = trd[[\"Area\",\"Title_s\"]]\n",
    "ftdrop = [\"Elan_ID\",\"Price\"]\n",
    "X = trd.drop(ftdrop,axis=1)\n",
    "y = trd[\"Price\"]\n",
    "\n",
    "\n",
    "\n",
    "#X = sondf.drop([\"Elan_ID\",\"Price\"],axis=1)\n",
    "#y = sondf[\"Price\"]\n",
    "\n",
    "X_train,X_test,y_train,y_test = tts(X,y,test_size=0.16,random_state=9)\n",
    "\n",
    "from sklearn import tree, linear_model\n",
    "tr = tree.DecisionTreeRegressor()\n",
    "lr = linear_model.LinearRegression()\n",
    "tr.fit(X_train,y_train)\n",
    "lr.fit(X_train,y_train)\n",
    "preds = tr.predict(X_test)\n",
    "preds3 = lr.predict(X_test)\n",
    "from sklearn.metrics import r2_score as r2, mean_squared_error as mse\n",
    "\n",
    "print(r2(y_test,preds))\n",
    "print(math.sqrt(mse(y_test,preds)))\n",
    "print(r2(y_test,preds3))\n",
    "print(math.sqrt(mse(y_test,preds3)))\n",
    "#preds2 = tr.predict(tsd[mf])\n",
    "\n",
    "from sklearn.ensemble import GradientBoostingRegressor as GB\n",
    "\n",
    "gbr = GB(learning_rate=0.1,n_estimators=150,max_depth=3,loss=\"ls\",criterion=\"mse\",min_samples_split=6,\n",
    "         min_samples_leaf=5,max_features=\"sqrt\",random_state=13)\n",
    "\n",
    "gbr.fit(X_train,y_train)\n",
    "predgb = gbr.predict(X_test)\n",
    "print(r2(y_test,predgb))\n",
    "print(math.sqrt(mse(y_test,predgb)))"
   ]
  },
  {
   "cell_type": "code",
   "execution_count": 1070,
   "id": "e5cffc35",
   "metadata": {},
   "outputs": [],
   "source": [
    "preds2 = lr.predict(tsd.drop(\"Elan_ID\",axis=1))\n",
    "\n",
    "sbd = pd.DataFrame({\"Elan_ID\":tsd[\"Elan_ID\"],\"Price\":preds2})\n",
    "\n",
    "sbd.to_csv(\"submitpolad13.csv\",index=False,sep=\",\")"
   ]
  },
  {
   "cell_type": "code",
   "execution_count": 1069,
   "id": "68c3f2a4",
   "metadata": {},
   "outputs": [],
   "source": [
    "predgbt = gbr.predict(tsd.drop([\"Elan_ID\"],axis=1))\n",
    "\n",
    "sbd = pd.DataFrame({\"Elan_ID\":tsd[\"Elan_ID\"],\"Price\":predgbt})\n",
    "\n",
    "sbd.to_csv(\"submitpolad133.csv\",index=False,sep=\",\")"
   ]
  },
  {
   "cell_type": "code",
   "execution_count": 149,
   "id": "9bd50c42",
   "metadata": {},
   "outputs": [
    {
     "data": {
      "text/html": [
       "<div>\n",
       "<style scoped>\n",
       "    .dataframe tbody tr th:only-of-type {\n",
       "        vertical-align: middle;\n",
       "    }\n",
       "\n",
       "    .dataframe tbody tr th {\n",
       "        vertical-align: top;\n",
       "    }\n",
       "\n",
       "    .dataframe thead th {\n",
       "        text-align: right;\n",
       "    }\n",
       "</style>\n",
       "<table border=\"1\" class=\"dataframe\">\n",
       "  <thead>\n",
       "    <tr style=\"text-align: right;\">\n",
       "      <th></th>\n",
       "      <th>Actual</th>\n",
       "      <th>Predicted</th>\n",
       "    </tr>\n",
       "  </thead>\n",
       "  <tbody>\n",
       "    <tr>\n",
       "      <th>10002</th>\n",
       "      <td>500.0</td>\n",
       "      <td>425.000000</td>\n",
       "    </tr>\n",
       "    <tr>\n",
       "      <th>16854</th>\n",
       "      <td>205000.0</td>\n",
       "      <td>195000.000000</td>\n",
       "    </tr>\n",
       "    <tr>\n",
       "      <th>18723</th>\n",
       "      <td>160000.0</td>\n",
       "      <td>155534.860465</td>\n",
       "    </tr>\n",
       "    <tr>\n",
       "      <th>16732</th>\n",
       "      <td>85000.0</td>\n",
       "      <td>178625.000000</td>\n",
       "    </tr>\n",
       "    <tr>\n",
       "      <th>17796</th>\n",
       "      <td>3500.0</td>\n",
       "      <td>2600.000000</td>\n",
       "    </tr>\n",
       "  </tbody>\n",
       "</table>\n",
       "</div>"
      ],
      "text/plain": [
       "         Actual      Predicted\n",
       "10002     500.0     425.000000\n",
       "16854  205000.0  195000.000000\n",
       "18723  160000.0  155534.860465\n",
       "16732   85000.0  178625.000000\n",
       "17796    3500.0    2600.000000"
      ]
     },
     "execution_count": 149,
     "metadata": {},
     "output_type": "execute_result"
    }
   ],
   "source": [
    "show = {\"Actual\":y_test,\"Predicted\":preds}\n",
    "showdata = pd.DataFrame(show)\n",
    "showdata.sample(5)"
   ]
  },
  {
   "cell_type": "code",
   "execution_count": 1077,
   "id": "1c232dc5",
   "metadata": {},
   "outputs": [
    {
     "data": {
      "text/html": [
       "<div>\n",
       "<style scoped>\n",
       "    .dataframe tbody tr th:only-of-type {\n",
       "        vertical-align: middle;\n",
       "    }\n",
       "\n",
       "    .dataframe tbody tr th {\n",
       "        vertical-align: top;\n",
       "    }\n",
       "\n",
       "    .dataframe thead th {\n",
       "        text-align: right;\n",
       "    }\n",
       "</style>\n",
       "<table border=\"1\" class=\"dataframe\">\n",
       "  <thead>\n",
       "    <tr style=\"text-align: right;\">\n",
       "      <th></th>\n",
       "      <th>Elan_ID</th>\n",
       "      <th>Views</th>\n",
       "      <th>Category</th>\n",
       "      <th>Area</th>\n",
       "      <th>Title</th>\n",
       "      <th>Price</th>\n",
       "      <th>Erazi</th>\n",
       "    </tr>\n",
       "    <tr>\n",
       "      <th>Number of rooms</th>\n",
       "      <th></th>\n",
       "      <th></th>\n",
       "      <th></th>\n",
       "      <th></th>\n",
       "      <th></th>\n",
       "      <th></th>\n",
       "      <th></th>\n",
       "    </tr>\n",
       "  </thead>\n",
       "  <tbody>\n",
       "    <tr>\n",
       "      <th>0</th>\n",
       "      <td>13277.202604</td>\n",
       "      <td>0.008013</td>\n",
       "      <td>0.891258</td>\n",
       "      <td>-0.469932</td>\n",
       "      <td>0.700529</td>\n",
       "      <td>68812.521963</td>\n",
       "      <td>1.561168</td>\n",
       "    </tr>\n",
       "    <tr>\n",
       "      <th>1</th>\n",
       "      <td>13278.391604</td>\n",
       "      <td>0.012916</td>\n",
       "      <td>0.926904</td>\n",
       "      <td>-0.184384</td>\n",
       "      <td>0.752679</td>\n",
       "      <td>131033.021283</td>\n",
       "      <td>1.560106</td>\n",
       "    </tr>\n",
       "    <tr>\n",
       "      <th>2</th>\n",
       "      <td>13399.584102</td>\n",
       "      <td>0.030755</td>\n",
       "      <td>0.743080</td>\n",
       "      <td>0.238483</td>\n",
       "      <td>0.784244</td>\n",
       "      <td>224915.418973</td>\n",
       "      <td>1.562101</td>\n",
       "    </tr>\n",
       "    <tr>\n",
       "      <th>3</th>\n",
       "      <td>13221.067196</td>\n",
       "      <td>0.047648</td>\n",
       "      <td>0.548564</td>\n",
       "      <td>2.157909</td>\n",
       "      <td>0.765425</td>\n",
       "      <td>578653.868051</td>\n",
       "      <td>1.517410</td>\n",
       "    </tr>\n",
       "  </tbody>\n",
       "</table>\n",
       "</div>"
      ],
      "text/plain": [
       "                      Elan_ID     Views  Category      Area     Title  \\\n",
       "Number of rooms                                                         \n",
       "0                13277.202604  0.008013  0.891258 -0.469932  0.700529   \n",
       "1                13278.391604  0.012916  0.926904 -0.184384  0.752679   \n",
       "2                13399.584102  0.030755  0.743080  0.238483  0.784244   \n",
       "3                13221.067196  0.047648  0.548564  2.157909  0.765425   \n",
       "\n",
       "                         Price     Erazi  \n",
       "Number of rooms                           \n",
       "0                 68812.521963  1.561168  \n",
       "1                131033.021283  1.560106  \n",
       "2                224915.418973  1.562101  \n",
       "3                578653.868051  1.517410  "
      ]
     },
     "execution_count": 1077,
     "metadata": {},
     "output_type": "execute_result"
    }
   ],
   "source": [
    "trd.groupby([\"Number of rooms\"]).mean()"
   ]
  },
  {
   "cell_type": "code",
   "execution_count": null,
   "id": "a48b1526",
   "metadata": {},
   "outputs": [],
   "source": []
  }
 ],
 "metadata": {
  "kernelspec": {
   "display_name": "Python 3",
   "language": "python",
   "name": "python3"
  },
  "language_info": {
   "codemirror_mode": {
    "name": "ipython",
    "version": 3
   },
   "file_extension": ".py",
   "mimetype": "text/x-python",
   "name": "python",
   "nbconvert_exporter": "python",
   "pygments_lexer": "ipython3",
   "version": "3.8.8"
  }
 },
 "nbformat": 4,
 "nbformat_minor": 5
}
